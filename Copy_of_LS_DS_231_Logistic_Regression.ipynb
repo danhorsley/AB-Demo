{
  "nbformat": 4,
  "nbformat_minor": 0,
  "metadata": {
    "colab": {
      "name": "Copy of LS_DS_231_Logistic_Regression.ipynb",
      "version": "0.3.2",
      "provenance": [],
      "collapsed_sections": [],
      "include_colab_link": true
    },
    "language_info": {
      "codemirror_mode": {
        "name": "ipython",
        "version": 3
      },
      "file_extension": ".py",
      "mimetype": "text/x-python",
      "name": "python",
      "nbconvert_exporter": "python",
      "pygments_lexer": "ipython3",
      "version": "3.7.1"
    },
    "kernelspec": {
      "display_name": "Python 3",
      "language": "python",
      "name": "python3"
    }
  },
  "cells": [
    {
      "cell_type": "markdown",
      "metadata": {
        "id": "view-in-github",
        "colab_type": "text"
      },
      "source": [
        "<a href=\"https://colab.research.google.com/github/danhorsley/AB-Demo/blob/master/Copy_of_LS_DS_231_Logistic_Regression.ipynb\" target=\"_parent\"><img src=\"https://colab.research.google.com/assets/colab-badge.svg\" alt=\"Open In Colab\"/></a>"
      ]
    },
    {
      "cell_type": "markdown",
      "metadata": {
        "colab_type": "text",
        "id": "N7SXF6jEBd5_"
      },
      "source": [
        "# Lambda School Data Science - Logistic Regression\n",
        "\n",
        "Logistic regression is the baseline for classification models, as well as a handy way to predict probabilities (since those too live in the unit interval). While relatively simple, it is also the foundation for more sophisticated classification techniques such as neural networks (many of which can effectively be thought of as networks of logistic models)."
      ]
    },
    {
      "cell_type": "markdown",
      "metadata": {
        "colab_type": "text",
        "id": "E7-AOngjadRN"
      },
      "source": [
        "## Lecture - Where Linear goes Wrong\n",
        "### Return of the Titanic 🚢\n",
        "\n",
        "You've likely already explored the rich dataset that is the Titanic - let's use regression and try to predict survival with it. The data is [available from Kaggle](https://www.kaggle.com/c/titanic/data), so we'll also play a bit with [the Kaggle API](https://github.com/Kaggle/kaggle-api)."
      ]
    },
    {
      "cell_type": "markdown",
      "metadata": {
        "id": "-V5TmCNO5JXr",
        "colab_type": "text"
      },
      "source": [
        "### Get data, option 1: Kaggle API\n",
        "\n",
        "#### Sign up for Kaggle and get an API token\n",
        "1. [Sign up for a Kaggle account](https://www.kaggle.com/), if you don’t already have one. \n",
        "2. [Follow these instructions](https://github.com/Kaggle/kaggle-api#api-credentials) to create a Kaggle “API Token” and download your `kaggle.json` file. If you are using Anaconda, put the file in the directory specified in the instructions.\n",
        "\n",
        "_This will enable you to download data directly from Kaggle. If you run into problems, don’t worry — I’ll give you an easy alternative way to download today’s data, so you can still follow along with the lecture hands-on. And then we’ll help you through the Kaggle process after the lecture._"
      ]
    },
    {
      "cell_type": "markdown",
      "metadata": {
        "id": "JPPP0A_i5JXz",
        "colab_type": "text"
      },
      "source": [
        "#### Put `kaggle.json` in the correct location\n",
        "\n",
        "- ***If you're using Anaconda,*** put the file in the directory specified in the [instructions](https://github.com/Kaggle/kaggle-api#api-credentials).\n",
        "\n",
        "- ***If you're using Google Colab,*** upload the file to your Google Drive, and run this cell:"
      ]
    },
    {
      "cell_type": "code",
      "metadata": {
        "id": "feZCqKmO5JX9",
        "colab_type": "code",
        "colab": {
          "base_uri": "https://localhost:8080/",
          "height": 54
        },
        "outputId": "7397cbc4-bb5b-4cd3-8272-b98271b0dc61"
      },
      "source": [
        "from google.colab import drive\n",
        "drive.mount('/content/drive')\n",
        "%env KAGGLE_CONFIG_DIR=/content/drive/My Drive/"
      ],
      "execution_count": 5,
      "outputs": [
        {
          "output_type": "stream",
          "text": [
            "Drive already mounted at /content/drive; to attempt to forcibly remount, call drive.mount(\"/content/drive\", force_remount=True).\n",
            "env: KAGGLE_CONFIG_DIR=/content/drive/My Drive/\n"
          ],
          "name": "stdout"
        }
      ]
    },
    {
      "cell_type": "markdown",
      "metadata": {
        "id": "o2vwp62K5JYS",
        "colab_type": "text"
      },
      "source": [
        "#### Install the Kaggle API package and use it to get the data\n",
        "\n",
        "You also have to join the Titanic competition to have access to the data"
      ]
    },
    {
      "cell_type": "code",
      "metadata": {
        "colab_type": "code",
        "id": "MnHLWPYDcyIe",
        "colab": {
          "base_uri": "https://localhost:8080/",
          "height": 217
        },
        "outputId": "a57da10e-dfa7-40d7-fa30-04a6e57ab34d"
      },
      "source": [
        "!pip install kaggle"
      ],
      "execution_count": 6,
      "outputs": [
        {
          "output_type": "stream",
          "text": [
            "Requirement already satisfied: kaggle in /usr/local/lib/python3.6/dist-packages (1.5.3)\n",
            "Requirement already satisfied: tqdm in /usr/local/lib/python3.6/dist-packages (from kaggle) (4.28.1)\n",
            "Requirement already satisfied: six>=1.10 in /usr/local/lib/python3.6/dist-packages (from kaggle) (1.12.0)\n",
            "Requirement already satisfied: certifi in /usr/local/lib/python3.6/dist-packages (from kaggle) (2019.3.9)\n",
            "Requirement already satisfied: python-dateutil in /usr/local/lib/python3.6/dist-packages (from kaggle) (2.5.3)\n",
            "Requirement already satisfied: requests in /usr/local/lib/python3.6/dist-packages (from kaggle) (2.21.0)\n",
            "Requirement already satisfied: urllib3<1.25,>=1.21.1 in /usr/local/lib/python3.6/dist-packages (from kaggle) (1.24.2)\n",
            "Requirement already satisfied: python-slugify in /usr/local/lib/python3.6/dist-packages (from kaggle) (3.0.2)\n",
            "Requirement already satisfied: idna<2.9,>=2.5 in /usr/local/lib/python3.6/dist-packages (from requests->kaggle) (2.8)\n",
            "Requirement already satisfied: chardet<3.1.0,>=3.0.2 in /usr/local/lib/python3.6/dist-packages (from requests->kaggle) (3.0.4)\n",
            "Requirement already satisfied: text-unidecode==1.2 in /usr/local/lib/python3.6/dist-packages (from python-slugify->kaggle) (1.2)\n"
          ],
          "name": "stdout"
        }
      ]
    },
    {
      "cell_type": "code",
      "metadata": {
        "id": "J9yYvRsG5JZX",
        "colab_type": "code",
        "colab": {
          "base_uri": "https://localhost:8080/",
          "height": 181
        },
        "outputId": "c1005587-2138-4a0c-ac7f-c05878572916"
      },
      "source": [
        "!kaggle competitions download -c titanic"
      ],
      "execution_count": 7,
      "outputs": [
        {
          "output_type": "stream",
          "text": [
            "Downloading train.csv to /content\n",
            "\r  0% 0.00/59.8k [00:00<?, ?B/s]\n",
            "100% 59.8k/59.8k [00:00<00:00, 57.0MB/s]\n",
            "Downloading test.csv to /content\n",
            "  0% 0.00/28.0k [00:00<?, ?B/s]\n",
            "100% 28.0k/28.0k [00:00<00:00, 24.8MB/s]\n",
            "Downloading gender_submission.csv to /content\n",
            "  0% 0.00/3.18k [00:00<?, ?B/s]\n",
            "100% 3.18k/3.18k [00:00<00:00, 2.85MB/s]\n"
          ],
          "name": "stdout"
        }
      ]
    },
    {
      "cell_type": "markdown",
      "metadata": {
        "id": "XMHvr8xV5JZw",
        "colab_type": "text"
      },
      "source": [
        "### Get data, option 2: Download from the competition page\n",
        "1. [Sign up for a Kaggle account](https://www.kaggle.com/), if you don’t already have one. \n",
        "2. [Go to the Titanic competition page](https://www.kaggle.com/c/titanic) to download the [data](https://www.kaggle.com/c/titanic/data)."
      ]
    },
    {
      "cell_type": "markdown",
      "metadata": {
        "id": "BjB80oOC5JZ2",
        "colab_type": "text"
      },
      "source": [
        "### Get data, option 3: Use Seaborn\n",
        "\n",
        "```\n",
        "import seaborn as sns\n",
        "train = sns.load_dataset('titanic')\n",
        "```\n",
        "\n",
        "But Seaborn's version of the Titanic dataset is not identical to Kaggle's version, as we'll see during this lesson!"
      ]
    },
    {
      "cell_type": "markdown",
      "metadata": {
        "id": "GU4C7qNw5JZ9",
        "colab_type": "text"
      },
      "source": [
        "### Read data"
      ]
    },
    {
      "cell_type": "code",
      "metadata": {
        "id": "mU-HF2aq5JaE",
        "colab_type": "code",
        "colab": {
          "base_uri": "https://localhost:8080/",
          "height": 35
        },
        "outputId": "64f60bbf-7734-4d35-c65d-8075ecbba21e"
      },
      "source": [
        "import pandas as pd\n",
        "train=pd.read_csv('train.csv')\n",
        "test=pd.read_csv('test.csv')\n",
        "train.shape, test.shape\n"
      ],
      "execution_count": 8,
      "outputs": [
        {
          "output_type": "execute_result",
          "data": {
            "text/plain": [
              "((891, 12), (418, 11))"
            ]
          },
          "metadata": {
            "tags": []
          },
          "execution_count": 8
        }
      ]
    },
    {
      "cell_type": "code",
      "metadata": {
        "id": "pw4BceL19HoS",
        "colab_type": "code",
        "colab": {
          "base_uri": "https://localhost:8080/",
          "height": 198
        },
        "outputId": "c5625b1a-11a6-49fe-b3f7-c64280f1f3f7"
      },
      "source": [
        "train.sample(n=5)"
      ],
      "execution_count": 9,
      "outputs": [
        {
          "output_type": "execute_result",
          "data": {
            "text/html": [
              "<div>\n",
              "<style scoped>\n",
              "    .dataframe tbody tr th:only-of-type {\n",
              "        vertical-align: middle;\n",
              "    }\n",
              "\n",
              "    .dataframe tbody tr th {\n",
              "        vertical-align: top;\n",
              "    }\n",
              "\n",
              "    .dataframe thead th {\n",
              "        text-align: right;\n",
              "    }\n",
              "</style>\n",
              "<table border=\"1\" class=\"dataframe\">\n",
              "  <thead>\n",
              "    <tr style=\"text-align: right;\">\n",
              "      <th></th>\n",
              "      <th>PassengerId</th>\n",
              "      <th>Survived</th>\n",
              "      <th>Pclass</th>\n",
              "      <th>Name</th>\n",
              "      <th>Sex</th>\n",
              "      <th>Age</th>\n",
              "      <th>SibSp</th>\n",
              "      <th>Parch</th>\n",
              "      <th>Ticket</th>\n",
              "      <th>Fare</th>\n",
              "      <th>Cabin</th>\n",
              "      <th>Embarked</th>\n",
              "    </tr>\n",
              "  </thead>\n",
              "  <tbody>\n",
              "    <tr>\n",
              "      <th>489</th>\n",
              "      <td>490</td>\n",
              "      <td>1</td>\n",
              "      <td>3</td>\n",
              "      <td>Coutts, Master. Eden Leslie \"Neville\"</td>\n",
              "      <td>male</td>\n",
              "      <td>9.0</td>\n",
              "      <td>1</td>\n",
              "      <td>1</td>\n",
              "      <td>C.A. 37671</td>\n",
              "      <td>15.9</td>\n",
              "      <td>NaN</td>\n",
              "      <td>S</td>\n",
              "    </tr>\n",
              "    <tr>\n",
              "      <th>353</th>\n",
              "      <td>354</td>\n",
              "      <td>0</td>\n",
              "      <td>3</td>\n",
              "      <td>Arnold-Franchi, Mr. Josef</td>\n",
              "      <td>male</td>\n",
              "      <td>25.0</td>\n",
              "      <td>1</td>\n",
              "      <td>0</td>\n",
              "      <td>349237</td>\n",
              "      <td>17.8</td>\n",
              "      <td>NaN</td>\n",
              "      <td>S</td>\n",
              "    </tr>\n",
              "    <tr>\n",
              "      <th>748</th>\n",
              "      <td>749</td>\n",
              "      <td>0</td>\n",
              "      <td>1</td>\n",
              "      <td>Marvin, Mr. Daniel Warner</td>\n",
              "      <td>male</td>\n",
              "      <td>19.0</td>\n",
              "      <td>1</td>\n",
              "      <td>0</td>\n",
              "      <td>113773</td>\n",
              "      <td>53.1</td>\n",
              "      <td>D30</td>\n",
              "      <td>S</td>\n",
              "    </tr>\n",
              "    <tr>\n",
              "      <th>718</th>\n",
              "      <td>719</td>\n",
              "      <td>0</td>\n",
              "      <td>3</td>\n",
              "      <td>McEvoy, Mr. Michael</td>\n",
              "      <td>male</td>\n",
              "      <td>NaN</td>\n",
              "      <td>0</td>\n",
              "      <td>0</td>\n",
              "      <td>36568</td>\n",
              "      <td>15.5</td>\n",
              "      <td>NaN</td>\n",
              "      <td>Q</td>\n",
              "    </tr>\n",
              "    <tr>\n",
              "      <th>766</th>\n",
              "      <td>767</td>\n",
              "      <td>0</td>\n",
              "      <td>1</td>\n",
              "      <td>Brewe, Dr. Arthur Jackson</td>\n",
              "      <td>male</td>\n",
              "      <td>NaN</td>\n",
              "      <td>0</td>\n",
              "      <td>0</td>\n",
              "      <td>112379</td>\n",
              "      <td>39.6</td>\n",
              "      <td>NaN</td>\n",
              "      <td>C</td>\n",
              "    </tr>\n",
              "  </tbody>\n",
              "</table>\n",
              "</div>"
            ],
            "text/plain": [
              "     PassengerId  Survived  Pclass                                   Name  \\\n",
              "489          490         1       3  Coutts, Master. Eden Leslie \"Neville\"   \n",
              "353          354         0       3              Arnold-Franchi, Mr. Josef   \n",
              "748          749         0       1              Marvin, Mr. Daniel Warner   \n",
              "718          719         0       3                    McEvoy, Mr. Michael   \n",
              "766          767         0       1              Brewe, Dr. Arthur Jackson   \n",
              "\n",
              "      Sex   Age  SibSp  Parch      Ticket  Fare Cabin Embarked  \n",
              "489  male   9.0      1      1  C.A. 37671  15.9   NaN        S  \n",
              "353  male  25.0      1      0      349237  17.8   NaN        S  \n",
              "748  male  19.0      1      0      113773  53.1   D30        S  \n",
              "718  male   NaN      0      0       36568  15.5   NaN        Q  \n",
              "766  male   NaN      0      0      112379  39.6   NaN        C  "
            ]
          },
          "metadata": {
            "tags": []
          },
          "execution_count": 9
        }
      ]
    },
    {
      "cell_type": "code",
      "metadata": {
        "id": "S3Qn84zd90TZ",
        "colab_type": "code",
        "colab": {
          "base_uri": "https://localhost:8080/",
          "height": 72
        },
        "outputId": "7759c85a-4f00-4367-969f-a5a978248525"
      },
      "source": [
        "target='Survived'\n",
        "train[target].value_counts(normalize=True)"
      ],
      "execution_count": 11,
      "outputs": [
        {
          "output_type": "execute_result",
          "data": {
            "text/plain": [
              "0    0.616162\n",
              "1    0.383838\n",
              "Name: Survived, dtype: float64"
            ]
          },
          "metadata": {
            "tags": []
          },
          "execution_count": 11
        }
      ]
    },
    {
      "cell_type": "code",
      "metadata": {
        "id": "iLfn5Rli_LKI",
        "colab_type": "code",
        "colab": {
          "base_uri": "https://localhost:8080/",
          "height": 288
        },
        "outputId": "a6499330-0098-4e64-9465-a2fa05e0fb72"
      },
      "source": [
        "train.describe(include='number')"
      ],
      "execution_count": 12,
      "outputs": [
        {
          "output_type": "execute_result",
          "data": {
            "text/html": [
              "<div>\n",
              "<style scoped>\n",
              "    .dataframe tbody tr th:only-of-type {\n",
              "        vertical-align: middle;\n",
              "    }\n",
              "\n",
              "    .dataframe tbody tr th {\n",
              "        vertical-align: top;\n",
              "    }\n",
              "\n",
              "    .dataframe thead th {\n",
              "        text-align: right;\n",
              "    }\n",
              "</style>\n",
              "<table border=\"1\" class=\"dataframe\">\n",
              "  <thead>\n",
              "    <tr style=\"text-align: right;\">\n",
              "      <th></th>\n",
              "      <th>PassengerId</th>\n",
              "      <th>Survived</th>\n",
              "      <th>Pclass</th>\n",
              "      <th>Age</th>\n",
              "      <th>SibSp</th>\n",
              "      <th>Parch</th>\n",
              "      <th>Fare</th>\n",
              "    </tr>\n",
              "  </thead>\n",
              "  <tbody>\n",
              "    <tr>\n",
              "      <th>count</th>\n",
              "      <td>891.000000</td>\n",
              "      <td>891.000000</td>\n",
              "      <td>891.000000</td>\n",
              "      <td>714.000000</td>\n",
              "      <td>891.000000</td>\n",
              "      <td>891.000000</td>\n",
              "      <td>891.000000</td>\n",
              "    </tr>\n",
              "    <tr>\n",
              "      <th>mean</th>\n",
              "      <td>446.000000</td>\n",
              "      <td>0.383838</td>\n",
              "      <td>2.308642</td>\n",
              "      <td>29.699118</td>\n",
              "      <td>0.523008</td>\n",
              "      <td>0.381594</td>\n",
              "      <td>32.204208</td>\n",
              "    </tr>\n",
              "    <tr>\n",
              "      <th>std</th>\n",
              "      <td>257.353842</td>\n",
              "      <td>0.486592</td>\n",
              "      <td>0.836071</td>\n",
              "      <td>14.526497</td>\n",
              "      <td>1.102743</td>\n",
              "      <td>0.806057</td>\n",
              "      <td>49.693429</td>\n",
              "    </tr>\n",
              "    <tr>\n",
              "      <th>min</th>\n",
              "      <td>1.000000</td>\n",
              "      <td>0.000000</td>\n",
              "      <td>1.000000</td>\n",
              "      <td>0.420000</td>\n",
              "      <td>0.000000</td>\n",
              "      <td>0.000000</td>\n",
              "      <td>0.000000</td>\n",
              "    </tr>\n",
              "    <tr>\n",
              "      <th>25%</th>\n",
              "      <td>223.500000</td>\n",
              "      <td>0.000000</td>\n",
              "      <td>2.000000</td>\n",
              "      <td>20.125000</td>\n",
              "      <td>0.000000</td>\n",
              "      <td>0.000000</td>\n",
              "      <td>7.910400</td>\n",
              "    </tr>\n",
              "    <tr>\n",
              "      <th>50%</th>\n",
              "      <td>446.000000</td>\n",
              "      <td>0.000000</td>\n",
              "      <td>3.000000</td>\n",
              "      <td>28.000000</td>\n",
              "      <td>0.000000</td>\n",
              "      <td>0.000000</td>\n",
              "      <td>14.454200</td>\n",
              "    </tr>\n",
              "    <tr>\n",
              "      <th>75%</th>\n",
              "      <td>668.500000</td>\n",
              "      <td>1.000000</td>\n",
              "      <td>3.000000</td>\n",
              "      <td>38.000000</td>\n",
              "      <td>1.000000</td>\n",
              "      <td>0.000000</td>\n",
              "      <td>31.000000</td>\n",
              "    </tr>\n",
              "    <tr>\n",
              "      <th>max</th>\n",
              "      <td>891.000000</td>\n",
              "      <td>1.000000</td>\n",
              "      <td>3.000000</td>\n",
              "      <td>80.000000</td>\n",
              "      <td>8.000000</td>\n",
              "      <td>6.000000</td>\n",
              "      <td>512.329200</td>\n",
              "    </tr>\n",
              "  </tbody>\n",
              "</table>\n",
              "</div>"
            ],
            "text/plain": [
              "       PassengerId    Survived      Pclass         Age       SibSp  \\\n",
              "count   891.000000  891.000000  891.000000  714.000000  891.000000   \n",
              "mean    446.000000    0.383838    2.308642   29.699118    0.523008   \n",
              "std     257.353842    0.486592    0.836071   14.526497    1.102743   \n",
              "min       1.000000    0.000000    1.000000    0.420000    0.000000   \n",
              "25%     223.500000    0.000000    2.000000   20.125000    0.000000   \n",
              "50%     446.000000    0.000000    3.000000   28.000000    0.000000   \n",
              "75%     668.500000    1.000000    3.000000   38.000000    1.000000   \n",
              "max     891.000000    1.000000    3.000000   80.000000    8.000000   \n",
              "\n",
              "            Parch        Fare  \n",
              "count  891.000000  891.000000  \n",
              "mean     0.381594   32.204208  \n",
              "std      0.806057   49.693429  \n",
              "min      0.000000    0.000000  \n",
              "25%      0.000000    7.910400  \n",
              "50%      0.000000   14.454200  \n",
              "75%      0.000000   31.000000  \n",
              "max      6.000000  512.329200  "
            ]
          },
          "metadata": {
            "tags": []
          },
          "execution_count": 12
        }
      ]
    },
    {
      "cell_type": "code",
      "metadata": {
        "id": "2HwkAuaV_nMk",
        "colab_type": "code",
        "colab": {
          "base_uri": "https://localhost:8080/",
          "height": 168
        },
        "outputId": "f3288a79-a7d1-4d1f-952f-360a5a25834d"
      },
      "source": [
        "train.describe(exclude='number')"
      ],
      "execution_count": 13,
      "outputs": [
        {
          "output_type": "execute_result",
          "data": {
            "text/html": [
              "<div>\n",
              "<style scoped>\n",
              "    .dataframe tbody tr th:only-of-type {\n",
              "        vertical-align: middle;\n",
              "    }\n",
              "\n",
              "    .dataframe tbody tr th {\n",
              "        vertical-align: top;\n",
              "    }\n",
              "\n",
              "    .dataframe thead th {\n",
              "        text-align: right;\n",
              "    }\n",
              "</style>\n",
              "<table border=\"1\" class=\"dataframe\">\n",
              "  <thead>\n",
              "    <tr style=\"text-align: right;\">\n",
              "      <th></th>\n",
              "      <th>Name</th>\n",
              "      <th>Sex</th>\n",
              "      <th>Ticket</th>\n",
              "      <th>Cabin</th>\n",
              "      <th>Embarked</th>\n",
              "    </tr>\n",
              "  </thead>\n",
              "  <tbody>\n",
              "    <tr>\n",
              "      <th>count</th>\n",
              "      <td>891</td>\n",
              "      <td>891</td>\n",
              "      <td>891</td>\n",
              "      <td>204</td>\n",
              "      <td>889</td>\n",
              "    </tr>\n",
              "    <tr>\n",
              "      <th>unique</th>\n",
              "      <td>891</td>\n",
              "      <td>2</td>\n",
              "      <td>681</td>\n",
              "      <td>147</td>\n",
              "      <td>3</td>\n",
              "    </tr>\n",
              "    <tr>\n",
              "      <th>top</th>\n",
              "      <td>McEvoy, Mr. Michael</td>\n",
              "      <td>male</td>\n",
              "      <td>347082</td>\n",
              "      <td>C23 C25 C27</td>\n",
              "      <td>S</td>\n",
              "    </tr>\n",
              "    <tr>\n",
              "      <th>freq</th>\n",
              "      <td>1</td>\n",
              "      <td>577</td>\n",
              "      <td>7</td>\n",
              "      <td>4</td>\n",
              "      <td>644</td>\n",
              "    </tr>\n",
              "  </tbody>\n",
              "</table>\n",
              "</div>"
            ],
            "text/plain": [
              "                       Name   Sex  Ticket        Cabin Embarked\n",
              "count                   891   891     891          204      889\n",
              "unique                  891     2     681          147        3\n",
              "top     McEvoy, Mr. Michael  male  347082  C23 C25 C27        S\n",
              "freq                      1   577       7            4      644"
            ]
          },
          "metadata": {
            "tags": []
          },
          "execution_count": 13
        }
      ]
    },
    {
      "cell_type": "markdown",
      "metadata": {
        "id": "LODQw0mU5Ja2",
        "colab_type": "text"
      },
      "source": [
        "### How would we try to do this with linear regression?"
      ]
    },
    {
      "cell_type": "markdown",
      "metadata": {
        "id": "w9GbnYGC5Ja7",
        "colab_type": "text"
      },
      "source": [
        "https://scikit-learn.org/stable/modules/impute.html"
      ]
    },
    {
      "cell_type": "code",
      "metadata": {
        "colab_type": "code",
        "id": "fcxfpsjdFJwM",
        "colab": {
          "base_uri": "https://localhost:8080/",
          "height": 54
        },
        "outputId": "ad1c263c-fc1d-4037-ca42-f13a193eaf2b"
      },
      "source": [
        "#impute default mode is to fill with mean\n",
        "from sklearn.impute import SimpleImputer\n",
        "from sklearn.linear_model import LinearRegression\n",
        "features=['Pclass','Age','Fare']\n",
        "X_train=train[features]\n",
        "y_train = train[target]\n",
        "lin_reg = LinearRegression()\n",
        "X_test=test[features]\n",
        "\n",
        "imputer=SimpleImputer()\n",
        "X_train_imputed=imputer.fit_transform(X_train)\n",
        "X_test_imputed = imputer.transform(X_test)\n",
        "#X_train.shape, X_train_imputed.shape, X_test.shape, X_test_imputed.shape\n",
        "\n",
        "lin_reg.fit(X_train_imputed,y_train)\n"
      ],
      "execution_count": 21,
      "outputs": [
        {
          "output_type": "execute_result",
          "data": {
            "text/plain": [
              "LinearRegression(copy_X=True, fit_intercept=True, n_jobs=None,\n",
              "         normalize=False)"
            ]
          },
          "metadata": {
            "tags": []
          },
          "execution_count": 21
        }
      ]
    },
    {
      "cell_type": "code",
      "metadata": {
        "id": "z7aM62imCzHR",
        "colab_type": "code",
        "colab": {
          "base_uri": "https://localhost:8080/",
          "height": 35
        },
        "outputId": "5d59d2c0-6ec5-43d3-a15f-606e5d44b010"
      },
      "source": [
        "import numpy as np\n",
        "test_case=np.array([[1,5,500]])\n",
        "lin_reg.predict(test_case)"
      ],
      "execution_count": 22,
      "outputs": [
        {
          "output_type": "execute_result",
          "data": {
            "text/plain": [
              "array([1.19207871])"
            ]
          },
          "metadata": {
            "tags": []
          },
          "execution_count": 22
        }
      ]
    },
    {
      "cell_type": "code",
      "metadata": {
        "id": "FwFMPJCNGbTF",
        "colab_type": "code",
        "colab": {
          "base_uri": "https://localhost:8080/",
          "height": 90
        },
        "outputId": "5dd8dbdb-1279-43fb-e4b0-249e4d6cdbc1"
      },
      "source": [
        "pd.Series(lin_reg.coef_,X_train.columns)"
      ],
      "execution_count": 23,
      "outputs": [
        {
          "output_type": "execute_result",
          "data": {
            "text/plain": [
              "Pclass   -0.210390\n",
              "Age      -0.007358\n",
              "Fare      0.000751\n",
              "dtype: float64"
            ]
          },
          "metadata": {
            "tags": []
          },
          "execution_count": 23
        }
      ]
    },
    {
      "cell_type": "markdown",
      "metadata": {
        "id": "gpAOVFYB5Jbo",
        "colab_type": "text"
      },
      "source": [
        "### How would we do this with Logistic Regression?"
      ]
    },
    {
      "cell_type": "code",
      "metadata": {
        "colab_type": "code",
        "id": "dpUm8Dl-u2aB",
        "colab": {
          "base_uri": "https://localhost:8080/",
          "height": 54
        },
        "outputId": "f651c84d-f372-4877-93b3-8f09b9844493"
      },
      "source": [
        "from sklearn.linear_model import LogisticRegression\n",
        "log_reg=LogisticRegression(solver='lbfgs')\n",
        "log_reg.fit(X_train_imputed, y_train)\n",
        "print('pred for richie rich:' , log_reg.predict(test_case))\n",
        "print('pre prob for rich 5 year olds',log_reg.predict_proba(test_case))"
      ],
      "execution_count": 25,
      "outputs": [
        {
          "output_type": "stream",
          "text": [
            "pred for richie rich: [1]\n",
            "pre prob for rich 5 year olds [[0.02778799 0.97221201]]\n"
          ],
          "name": "stdout"
        }
      ]
    },
    {
      "cell_type": "code",
      "metadata": {
        "id": "qo4jDNjWNETr",
        "colab_type": "code",
        "colab": {
          "base_uri": "https://localhost:8080/",
          "height": 35
        },
        "outputId": "bdfca828-90fb-4353-d005-f06874bd4f88"
      },
      "source": [
        "threshold =0.5\n",
        "manual_predictions=(log_reg.predict_proba(X_test_imputed)[:,1]>threshold).astype(int)\n",
        "direct_predictions=log_reg.predict(X_test_imputed)\n",
        "all(manual_predictions==direct_predictions)"
      ],
      "execution_count": 33,
      "outputs": [
        {
          "output_type": "execute_result",
          "data": {
            "text/plain": [
              "True"
            ]
          },
          "metadata": {
            "tags": []
          },
          "execution_count": 33
        }
      ]
    },
    {
      "cell_type": "markdown",
      "metadata": {
        "id": "6fzzUfh25JcI",
        "colab_type": "text"
      },
      "source": [
        "### How accurate is the Logistic Regression?"
      ]
    },
    {
      "cell_type": "code",
      "metadata": {
        "id": "O8VBiMjXNkFe",
        "colab_type": "code",
        "colab": {
          "base_uri": "https://localhost:8080/",
          "height": 35
        },
        "outputId": "9e8dfc0d-0407-4316-ed25-4429b85a7b1d"
      },
      "source": [
        "score=log_reg.score(X_train_imputed, y_train)\n",
        "print('train accuracy score',score)"
      ],
      "execution_count": 32,
      "outputs": [
        {
          "output_type": "stream",
          "text": [
            "train accuracy score 0.7025813692480359\n"
          ],
          "name": "stdout"
        }
      ]
    },
    {
      "cell_type": "code",
      "metadata": {
        "id": "naxRrGxz5JcP",
        "colab_type": "code",
        "colab": {}
      },
      "source": [
        "#accuracy=correct predictions/total predictions - same as accuracy score on sci kit learn"
      ],
      "execution_count": 0,
      "outputs": []
    },
    {
      "cell_type": "code",
      "metadata": {
        "id": "j6yT90bUO2T4",
        "colab_type": "code",
        "colab": {
          "base_uri": "https://localhost:8080/",
          "height": 54
        },
        "outputId": "3a5f34ca-c332-4e48-e23f-2133f2a65406"
      },
      "source": [
        "from sklearn.model_selection import cross_val_score\n",
        "scores = cross_val_score(log_reg,X_train_imputed,y_train,cv=10)\n",
        "print('cross val acc scores',scores)"
      ],
      "execution_count": 35,
      "outputs": [
        {
          "output_type": "stream",
          "text": [
            "cross val acc scores [0.63333333 0.62222222 0.68539326 0.71910112 0.69662921 0.69662921\n",
            " 0.76404494 0.75280899 0.73033708 0.71590909]\n"
          ],
          "name": "stdout"
        }
      ]
    },
    {
      "cell_type": "markdown",
      "metadata": {
        "id": "BxL_-JfV5JdA",
        "colab_type": "text"
      },
      "source": [
        "### What's the math for the Logistic Regression?\n",
        "\n",
        "https://en.wikipedia.org/wiki/Logistic_function\n",
        "\n",
        "https://en.wikipedia.org/wiki/Logistic_regression#Probability_of_passing_an_exam_versus_hours_of_study"
      ]
    },
    {
      "cell_type": "code",
      "metadata": {
        "colab_type": "code",
        "id": "9Bq-54noR1uE",
        "colab": {
          "base_uri": "https://localhost:8080/",
          "height": 35
        },
        "outputId": "159273e2-2931-45cd-895a-7eafe3fda201"
      },
      "source": [
        "log_reg.coef_"
      ],
      "execution_count": 36,
      "outputs": [
        {
          "output_type": "execute_result",
          "data": {
            "text/plain": [
              "array([[-0.9345267 , -0.03569729,  0.00422069]])"
            ]
          },
          "metadata": {
            "tags": []
          },
          "execution_count": 36
        }
      ]
    },
    {
      "cell_type": "code",
      "metadata": {
        "id": "6xk3l7D7Q8Xp",
        "colab_type": "code",
        "colab": {
          "base_uri": "https://localhost:8080/",
          "height": 35
        },
        "outputId": "e68ede90-807c-405a-aacf-cad8e62cf676"
      },
      "source": [
        "log_reg.intercept_"
      ],
      "execution_count": 38,
      "outputs": [
        {
          "output_type": "execute_result",
          "data": {
            "text/plain": [
              "array([2.55763985])"
            ]
          },
          "metadata": {
            "tags": []
          },
          "execution_count": 38
        }
      ]
    },
    {
      "cell_type": "code",
      "metadata": {
        "id": "X5OqGiOZRDUh",
        "colab_type": "code",
        "colab": {}
      },
      "source": [
        "#logistic sigmoid fnction\n",
        "def sigmoid(x):\n",
        "  1+(1+np.e**(-x))"
      ],
      "execution_count": 0,
      "outputs": []
    },
    {
      "cell_type": "code",
      "metadata": {
        "id": "9D3DUlLWRSJw",
        "colab_type": "code",
        "colab": {
          "base_uri": "https://localhost:8080/",
          "height": 35
        },
        "outputId": "7479e6f6-327d-41b3-db5b-18bac4202db5"
      },
      "source": [
        "np.dot(log_reg.coef_,test_case.T)"
      ],
      "execution_count": 41,
      "outputs": [
        {
          "output_type": "execute_result",
          "data": {
            "text/plain": [
              "array([[0.99733004]])"
            ]
          },
          "metadata": {
            "tags": []
          },
          "execution_count": 41
        }
      ]
    },
    {
      "cell_type": "markdown",
      "metadata": {
        "id": "EmqllDvh5Jd2",
        "colab_type": "text"
      },
      "source": [
        "## Feature Engineering\n",
        "\n",
        "Get the [Category Encoder](http://contrib.scikit-learn.org/categorical-encoding/) library\n",
        "\n",
        "If you're running on Google Colab:\n",
        "\n",
        "```\n",
        "!pip install category_encoders\n",
        "```\n",
        "\n",
        "If you're running locally with Anaconda:\n",
        "\n",
        "```\n",
        "!conda install -c conda-forge category_encoders\n",
        "```"
      ]
    },
    {
      "cell_type": "code",
      "metadata": {
        "id": "cXIa0zn05JeK",
        "colab_type": "code",
        "colab": {
          "base_uri": "https://localhost:8080/",
          "height": 198
        },
        "outputId": "3d897ce6-8412-44e8-83f6-258d4e8878b2"
      },
      "source": [
        "import seaborn as sns\n",
        "sns_titanic=sns.load_dataset('titanic')\n",
        "sns_titanic.head()"
      ],
      "execution_count": 42,
      "outputs": [
        {
          "output_type": "execute_result",
          "data": {
            "text/html": [
              "<div>\n",
              "<style scoped>\n",
              "    .dataframe tbody tr th:only-of-type {\n",
              "        vertical-align: middle;\n",
              "    }\n",
              "\n",
              "    .dataframe tbody tr th {\n",
              "        vertical-align: top;\n",
              "    }\n",
              "\n",
              "    .dataframe thead th {\n",
              "        text-align: right;\n",
              "    }\n",
              "</style>\n",
              "<table border=\"1\" class=\"dataframe\">\n",
              "  <thead>\n",
              "    <tr style=\"text-align: right;\">\n",
              "      <th></th>\n",
              "      <th>survived</th>\n",
              "      <th>pclass</th>\n",
              "      <th>sex</th>\n",
              "      <th>age</th>\n",
              "      <th>sibsp</th>\n",
              "      <th>parch</th>\n",
              "      <th>fare</th>\n",
              "      <th>embarked</th>\n",
              "      <th>class</th>\n",
              "      <th>who</th>\n",
              "      <th>adult_male</th>\n",
              "      <th>deck</th>\n",
              "      <th>embark_town</th>\n",
              "      <th>alive</th>\n",
              "      <th>alone</th>\n",
              "    </tr>\n",
              "  </thead>\n",
              "  <tbody>\n",
              "    <tr>\n",
              "      <th>0</th>\n",
              "      <td>0</td>\n",
              "      <td>3</td>\n",
              "      <td>male</td>\n",
              "      <td>22.0</td>\n",
              "      <td>1</td>\n",
              "      <td>0</td>\n",
              "      <td>7.2500</td>\n",
              "      <td>S</td>\n",
              "      <td>Third</td>\n",
              "      <td>man</td>\n",
              "      <td>True</td>\n",
              "      <td>NaN</td>\n",
              "      <td>Southampton</td>\n",
              "      <td>no</td>\n",
              "      <td>False</td>\n",
              "    </tr>\n",
              "    <tr>\n",
              "      <th>1</th>\n",
              "      <td>1</td>\n",
              "      <td>1</td>\n",
              "      <td>female</td>\n",
              "      <td>38.0</td>\n",
              "      <td>1</td>\n",
              "      <td>0</td>\n",
              "      <td>71.2833</td>\n",
              "      <td>C</td>\n",
              "      <td>First</td>\n",
              "      <td>woman</td>\n",
              "      <td>False</td>\n",
              "      <td>C</td>\n",
              "      <td>Cherbourg</td>\n",
              "      <td>yes</td>\n",
              "      <td>False</td>\n",
              "    </tr>\n",
              "    <tr>\n",
              "      <th>2</th>\n",
              "      <td>1</td>\n",
              "      <td>3</td>\n",
              "      <td>female</td>\n",
              "      <td>26.0</td>\n",
              "      <td>0</td>\n",
              "      <td>0</td>\n",
              "      <td>7.9250</td>\n",
              "      <td>S</td>\n",
              "      <td>Third</td>\n",
              "      <td>woman</td>\n",
              "      <td>False</td>\n",
              "      <td>NaN</td>\n",
              "      <td>Southampton</td>\n",
              "      <td>yes</td>\n",
              "      <td>True</td>\n",
              "    </tr>\n",
              "    <tr>\n",
              "      <th>3</th>\n",
              "      <td>1</td>\n",
              "      <td>1</td>\n",
              "      <td>female</td>\n",
              "      <td>35.0</td>\n",
              "      <td>1</td>\n",
              "      <td>0</td>\n",
              "      <td>53.1000</td>\n",
              "      <td>S</td>\n",
              "      <td>First</td>\n",
              "      <td>woman</td>\n",
              "      <td>False</td>\n",
              "      <td>C</td>\n",
              "      <td>Southampton</td>\n",
              "      <td>yes</td>\n",
              "      <td>False</td>\n",
              "    </tr>\n",
              "    <tr>\n",
              "      <th>4</th>\n",
              "      <td>0</td>\n",
              "      <td>3</td>\n",
              "      <td>male</td>\n",
              "      <td>35.0</td>\n",
              "      <td>0</td>\n",
              "      <td>0</td>\n",
              "      <td>8.0500</td>\n",
              "      <td>S</td>\n",
              "      <td>Third</td>\n",
              "      <td>man</td>\n",
              "      <td>True</td>\n",
              "      <td>NaN</td>\n",
              "      <td>Southampton</td>\n",
              "      <td>no</td>\n",
              "      <td>True</td>\n",
              "    </tr>\n",
              "  </tbody>\n",
              "</table>\n",
              "</div>"
            ],
            "text/plain": [
              "   survived  pclass     sex   age  sibsp  parch     fare embarked  class  \\\n",
              "0         0       3    male  22.0      1      0   7.2500        S  Third   \n",
              "1         1       1  female  38.0      1      0  71.2833        C  First   \n",
              "2         1       3  female  26.0      0      0   7.9250        S  Third   \n",
              "3         1       1  female  35.0      1      0  53.1000        S  First   \n",
              "4         0       3    male  35.0      0      0   8.0500        S  Third   \n",
              "\n",
              "     who  adult_male deck  embark_town alive  alone  \n",
              "0    man        True  NaN  Southampton    no  False  \n",
              "1  woman       False    C    Cherbourg   yes  False  \n",
              "2  woman       False  NaN  Southampton   yes   True  \n",
              "3  woman       False    C  Southampton   yes  False  \n",
              "4    man        True  NaN  Southampton    no   True  "
            ]
          },
          "metadata": {
            "tags": []
          },
          "execution_count": 42
        }
      ]
    },
    {
      "cell_type": "code",
      "metadata": {
        "id": "ZfyveoAvS5cp",
        "colab_type": "code",
        "colab": {}
      },
      "source": [
        "sns_titanic['adult_male']=(train['Sex']=='male' & (train['Age']>=16))"
      ],
      "execution_count": 0,
      "outputs": []
    },
    {
      "cell_type": "markdown",
      "metadata": {
        "colab_type": "text",
        "id": "iblW74C8afuR"
      },
      "source": [
        "## Assignment: real-world classification\n",
        "\n",
        "We're going to check out a larger dataset - the [FMA Free Music Archive data](https://github.com/mdeff/fma). It has a selection of CSVs with metadata and calculated audio features that you can load and try to use to classify genre of tracks. To get you started:"
      ]
    },
    {
      "cell_type": "markdown",
      "metadata": {
        "id": "BtYFbDB85Je0",
        "colab_type": "text"
      },
      "source": [
        "### Get and unzip the data"
      ]
    },
    {
      "cell_type": "markdown",
      "metadata": {
        "id": "YBkoto2W5Je8",
        "colab_type": "text"
      },
      "source": [
        "#### Google Colab"
      ]
    },
    {
      "cell_type": "code",
      "metadata": {
        "colab_type": "code",
        "id": "SsySnuKaKtQf",
        "colab": {
          "base_uri": "https://localhost:8080/",
          "height": 454
        },
        "outputId": "ef34382f-1bca-4dcc-c2b5-a22f83b04486"
      },
      "source": [
        "!wget https://os.unil.cloud.switch.ch/fma/fma_metadata.zip\n",
        "!unzip fma_metadata.zip"
      ],
      "execution_count": 43,
      "outputs": [
        {
          "output_type": "stream",
          "text": [
            "--2019-05-06 18:15:41--  https://os.unil.cloud.switch.ch/fma/fma_metadata.zip\n",
            "Resolving os.unil.cloud.switch.ch (os.unil.cloud.switch.ch)... 86.119.28.13, 2001:620:5ca1:2ff::ce53\n",
            "Connecting to os.unil.cloud.switch.ch (os.unil.cloud.switch.ch)|86.119.28.13|:443... connected.\n",
            "HTTP request sent, awaiting response... 200 OK\n",
            "Length: 358412441 (342M) [application/zip]\n",
            "Saving to: ‘fma_metadata.zip’\n",
            "\n",
            "fma_metadata.zip    100%[===================>] 341.81M  25.7MB/s    in 14s     \n",
            "\n",
            "2019-05-06 18:15:56 (24.2 MB/s) - ‘fma_metadata.zip’ saved [358412441/358412441]\n",
            "\n",
            "Archive:  fma_metadata.zip\n",
            " bunzipping: fma_metadata/README.txt  \n",
            " bunzipping: fma_metadata/checksums  \n",
            " bunzipping: fma_metadata/not_found.pickle  \n",
            " bunzipping: fma_metadata/raw_genres.csv  \n",
            " bunzipping: fma_metadata/raw_albums.csv  \n",
            " bunzipping: fma_metadata/raw_artists.csv  \n",
            " bunzipping: fma_metadata/raw_tracks.csv  \n",
            " bunzipping: fma_metadata/tracks.csv  \n",
            " bunzipping: fma_metadata/genres.csv  \n",
            " bunzipping: fma_metadata/raw_echonest.csv  \n",
            " bunzipping: fma_metadata/echonest.csv  \n",
            " bunzipping: fma_metadata/features.csv  \n"
          ],
          "name": "stdout"
        }
      ]
    },
    {
      "cell_type": "markdown",
      "metadata": {
        "id": "FkREDJ_E5JgN",
        "colab_type": "text"
      },
      "source": [
        "#### Windows\n",
        "- Download the [zip file](https://os.unil.cloud.switch.ch/fma/fma_metadata.zip)\n",
        "- You may need to use [7zip](https://www.7-zip.org/download.html) to unzip it\n",
        "\n",
        "\n",
        "#### Mac\n",
        "- Download the [zip file](https://os.unil.cloud.switch.ch/fma/fma_metadata.zip)\n",
        "- You may need to use [p7zip](https://superuser.com/a/626731) to unzip it"
      ]
    },
    {
      "cell_type": "markdown",
      "metadata": {
        "id": "GS3d6Lw95JgT",
        "colab_type": "text"
      },
      "source": [
        "### Look at first 3 lines of raw file"
      ]
    },
    {
      "cell_type": "code",
      "metadata": {
        "id": "hXxC6NjV5JgW",
        "colab_type": "code",
        "colab": {
          "base_uri": "https://localhost:8080/",
          "height": 92
        },
        "outputId": "ec24a82d-34d7-45fa-be75-f03ce85a35e9"
      },
      "source": [
        "!head -n 3 fma_metadata/tracks.csv"
      ],
      "execution_count": 44,
      "outputs": [
        {
          "output_type": "stream",
          "text": [
            ",album,album,album,album,album,album,album,album,album,album,album,album,album,artist,artist,artist,artist,artist,artist,artist,artist,artist,artist,artist,artist,artist,artist,artist,artist,artist,set,set,track,track,track,track,track,track,track,track,track,track,track,track,track,track,track,track,track,track,track,track\n",
            ",comments,date_created,date_released,engineer,favorites,id,information,listens,producer,tags,title,tracks,type,active_year_begin,active_year_end,associated_labels,bio,comments,date_created,favorites,id,latitude,location,longitude,members,name,related_projects,tags,website,wikipedia_page,split,subset,bit_rate,comments,composer,date_created,date_recorded,duration,favorites,genre_top,genres,genres_all,information,interest,language_code,license,listens,lyricist,number,publisher,tags,title\n",
            "track_id,,,,,,,,,,,,,,,,,,,,,,,,,,,,,,,,,,,,,,,,,,,,,,,,,,,,\n"
          ],
          "name": "stdout"
        }
      ]
    },
    {
      "cell_type": "markdown",
      "metadata": {
        "id": "9q__9JWA5JhO",
        "colab_type": "text"
      },
      "source": [
        "### Read with pandas\n",
        "https://pandas.pydata.org/pandas-docs/stable/reference/api/pandas.read_csv.html"
      ]
    },
    {
      "cell_type": "code",
      "metadata": {
        "id": "DuOfgUE55JhV",
        "colab_type": "code",
        "colab": {
          "base_uri": "https://localhost:8080/",
          "height": 543
        },
        "outputId": "ebf5e193-34b2-41b6-8ae4-12baae086cb3"
      },
      "source": [
        "df=pd.read_csv('fma_metadata/tracks.csv',skiprows=1)\n",
        "df.rename(columns={'Unnamed: 0':'track_id',\n",
        "                        }, \n",
        "                 inplace=True)\n",
        "df=df.drop(0,axis=0)\n",
        "df.head()"
      ],
      "execution_count": 53,
      "outputs": [
        {
          "output_type": "stream",
          "text": [
            "/usr/local/lib/python3.6/dist-packages/IPython/core/interactiveshell.py:2718: DtypeWarning: Columns (0) have mixed types. Specify dtype option on import or set low_memory=False.\n",
            "  interactivity=interactivity, compiler=compiler, result=result)\n"
          ],
          "name": "stderr"
        },
        {
          "output_type": "execute_result",
          "data": {
            "text/html": [
              "<div>\n",
              "<style scoped>\n",
              "    .dataframe tbody tr th:only-of-type {\n",
              "        vertical-align: middle;\n",
              "    }\n",
              "\n",
              "    .dataframe tbody tr th {\n",
              "        vertical-align: top;\n",
              "    }\n",
              "\n",
              "    .dataframe thead th {\n",
              "        text-align: right;\n",
              "    }\n",
              "</style>\n",
              "<table border=\"1\" class=\"dataframe\">\n",
              "  <thead>\n",
              "    <tr style=\"text-align: right;\">\n",
              "      <th></th>\n",
              "      <th>track_id</th>\n",
              "      <th>comments</th>\n",
              "      <th>date_created</th>\n",
              "      <th>date_released</th>\n",
              "      <th>engineer</th>\n",
              "      <th>favorites</th>\n",
              "      <th>id</th>\n",
              "      <th>information</th>\n",
              "      <th>listens</th>\n",
              "      <th>producer</th>\n",
              "      <th>...</th>\n",
              "      <th>information.1</th>\n",
              "      <th>interest</th>\n",
              "      <th>language_code</th>\n",
              "      <th>license</th>\n",
              "      <th>listens.1</th>\n",
              "      <th>lyricist</th>\n",
              "      <th>number</th>\n",
              "      <th>publisher</th>\n",
              "      <th>tags.2</th>\n",
              "      <th>title.1</th>\n",
              "    </tr>\n",
              "  </thead>\n",
              "  <tbody>\n",
              "    <tr>\n",
              "      <th>1</th>\n",
              "      <td>2</td>\n",
              "      <td>0.0</td>\n",
              "      <td>2008-11-26 01:44:45</td>\n",
              "      <td>2009-01-05 00:00:00</td>\n",
              "      <td>NaN</td>\n",
              "      <td>4.0</td>\n",
              "      <td>1.0</td>\n",
              "      <td>&lt;p&gt;&lt;/p&gt;</td>\n",
              "      <td>6073.0</td>\n",
              "      <td>NaN</td>\n",
              "      <td>...</td>\n",
              "      <td>NaN</td>\n",
              "      <td>4656.0</td>\n",
              "      <td>en</td>\n",
              "      <td>Attribution-NonCommercial-ShareAlike 3.0 Inter...</td>\n",
              "      <td>1293.0</td>\n",
              "      <td>NaN</td>\n",
              "      <td>3.0</td>\n",
              "      <td>NaN</td>\n",
              "      <td>[]</td>\n",
              "      <td>Food</td>\n",
              "    </tr>\n",
              "    <tr>\n",
              "      <th>2</th>\n",
              "      <td>3</td>\n",
              "      <td>0.0</td>\n",
              "      <td>2008-11-26 01:44:45</td>\n",
              "      <td>2009-01-05 00:00:00</td>\n",
              "      <td>NaN</td>\n",
              "      <td>4.0</td>\n",
              "      <td>1.0</td>\n",
              "      <td>&lt;p&gt;&lt;/p&gt;</td>\n",
              "      <td>6073.0</td>\n",
              "      <td>NaN</td>\n",
              "      <td>...</td>\n",
              "      <td>NaN</td>\n",
              "      <td>1470.0</td>\n",
              "      <td>en</td>\n",
              "      <td>Attribution-NonCommercial-ShareAlike 3.0 Inter...</td>\n",
              "      <td>514.0</td>\n",
              "      <td>NaN</td>\n",
              "      <td>4.0</td>\n",
              "      <td>NaN</td>\n",
              "      <td>[]</td>\n",
              "      <td>Electric Ave</td>\n",
              "    </tr>\n",
              "    <tr>\n",
              "      <th>3</th>\n",
              "      <td>5</td>\n",
              "      <td>0.0</td>\n",
              "      <td>2008-11-26 01:44:45</td>\n",
              "      <td>2009-01-05 00:00:00</td>\n",
              "      <td>NaN</td>\n",
              "      <td>4.0</td>\n",
              "      <td>1.0</td>\n",
              "      <td>&lt;p&gt;&lt;/p&gt;</td>\n",
              "      <td>6073.0</td>\n",
              "      <td>NaN</td>\n",
              "      <td>...</td>\n",
              "      <td>NaN</td>\n",
              "      <td>1933.0</td>\n",
              "      <td>en</td>\n",
              "      <td>Attribution-NonCommercial-ShareAlike 3.0 Inter...</td>\n",
              "      <td>1151.0</td>\n",
              "      <td>NaN</td>\n",
              "      <td>6.0</td>\n",
              "      <td>NaN</td>\n",
              "      <td>[]</td>\n",
              "      <td>This World</td>\n",
              "    </tr>\n",
              "    <tr>\n",
              "      <th>4</th>\n",
              "      <td>10</td>\n",
              "      <td>0.0</td>\n",
              "      <td>2008-11-26 01:45:08</td>\n",
              "      <td>2008-02-06 00:00:00</td>\n",
              "      <td>NaN</td>\n",
              "      <td>4.0</td>\n",
              "      <td>6.0</td>\n",
              "      <td>NaN</td>\n",
              "      <td>47632.0</td>\n",
              "      <td>NaN</td>\n",
              "      <td>...</td>\n",
              "      <td>NaN</td>\n",
              "      <td>54881.0</td>\n",
              "      <td>en</td>\n",
              "      <td>Attribution-NonCommercial-NoDerivatives (aka M...</td>\n",
              "      <td>50135.0</td>\n",
              "      <td>NaN</td>\n",
              "      <td>1.0</td>\n",
              "      <td>NaN</td>\n",
              "      <td>[]</td>\n",
              "      <td>Freeway</td>\n",
              "    </tr>\n",
              "    <tr>\n",
              "      <th>5</th>\n",
              "      <td>20</td>\n",
              "      <td>0.0</td>\n",
              "      <td>2008-11-26 01:45:05</td>\n",
              "      <td>2009-01-06 00:00:00</td>\n",
              "      <td>NaN</td>\n",
              "      <td>2.0</td>\n",
              "      <td>4.0</td>\n",
              "      <td>&lt;p&gt; \"spiritual songs\" from Nicky Cook&lt;/p&gt;</td>\n",
              "      <td>2710.0</td>\n",
              "      <td>NaN</td>\n",
              "      <td>...</td>\n",
              "      <td>NaN</td>\n",
              "      <td>978.0</td>\n",
              "      <td>en</td>\n",
              "      <td>Attribution-NonCommercial-NoDerivatives (aka M...</td>\n",
              "      <td>361.0</td>\n",
              "      <td>NaN</td>\n",
              "      <td>3.0</td>\n",
              "      <td>NaN</td>\n",
              "      <td>[]</td>\n",
              "      <td>Spiritual Level</td>\n",
              "    </tr>\n",
              "  </tbody>\n",
              "</table>\n",
              "<p>5 rows × 53 columns</p>\n",
              "</div>"
            ],
            "text/plain": [
              "  track_id  comments         date_created        date_released engineer  \\\n",
              "1        2       0.0  2008-11-26 01:44:45  2009-01-05 00:00:00      NaN   \n",
              "2        3       0.0  2008-11-26 01:44:45  2009-01-05 00:00:00      NaN   \n",
              "3        5       0.0  2008-11-26 01:44:45  2009-01-05 00:00:00      NaN   \n",
              "4       10       0.0  2008-11-26 01:45:08  2008-02-06 00:00:00      NaN   \n",
              "5       20       0.0  2008-11-26 01:45:05  2009-01-06 00:00:00      NaN   \n",
              "\n",
              "   favorites   id                                information  listens  \\\n",
              "1        4.0  1.0                                    <p></p>   6073.0   \n",
              "2        4.0  1.0                                    <p></p>   6073.0   \n",
              "3        4.0  1.0                                    <p></p>   6073.0   \n",
              "4        4.0  6.0                                        NaN  47632.0   \n",
              "5        2.0  4.0  <p> \"spiritual songs\" from Nicky Cook</p>   2710.0   \n",
              "\n",
              "  producer  ... information.1 interest  language_code  \\\n",
              "1      NaN  ...           NaN   4656.0             en   \n",
              "2      NaN  ...           NaN   1470.0             en   \n",
              "3      NaN  ...           NaN   1933.0             en   \n",
              "4      NaN  ...           NaN  54881.0             en   \n",
              "5      NaN  ...           NaN    978.0             en   \n",
              "\n",
              "                                             license listens.1 lyricist  \\\n",
              "1  Attribution-NonCommercial-ShareAlike 3.0 Inter...    1293.0      NaN   \n",
              "2  Attribution-NonCommercial-ShareAlike 3.0 Inter...     514.0      NaN   \n",
              "3  Attribution-NonCommercial-ShareAlike 3.0 Inter...    1151.0      NaN   \n",
              "4  Attribution-NonCommercial-NoDerivatives (aka M...   50135.0      NaN   \n",
              "5  Attribution-NonCommercial-NoDerivatives (aka M...     361.0      NaN   \n",
              "\n",
              "  number publisher  tags.2          title.1  \n",
              "1    3.0       NaN      []             Food  \n",
              "2    4.0       NaN      []     Electric Ave  \n",
              "3    6.0       NaN      []       This World  \n",
              "4    1.0       NaN      []          Freeway  \n",
              "5    3.0       NaN      []  Spiritual Level  \n",
              "\n",
              "[5 rows x 53 columns]"
            ]
          },
          "metadata": {
            "tags": []
          },
          "execution_count": 53
        }
      ]
    },
    {
      "cell_type": "markdown",
      "metadata": {
        "id": "NcdBcsJ55Jhr",
        "colab_type": "text"
      },
      "source": [
        "### Fit Logistic Regression!"
      ]
    },
    {
      "cell_type": "code",
      "metadata": {
        "id": "ld_tmnUI5Jh3",
        "colab_type": "code",
        "colab": {
          "base_uri": "https://localhost:8080/",
          "height": 308
        },
        "outputId": "fe8d8f58-7619-499e-840d-aa5fe6746ac9"
      },
      "source": [
        "df.describe(include='number')"
      ],
      "execution_count": 54,
      "outputs": [
        {
          "output_type": "execute_result",
          "data": {
            "text/html": [
              "<div>\n",
              "<style scoped>\n",
              "    .dataframe tbody tr th:only-of-type {\n",
              "        vertical-align: middle;\n",
              "    }\n",
              "\n",
              "    .dataframe tbody tr th {\n",
              "        vertical-align: top;\n",
              "    }\n",
              "\n",
              "    .dataframe thead th {\n",
              "        text-align: right;\n",
              "    }\n",
              "</style>\n",
              "<table border=\"1\" class=\"dataframe\">\n",
              "  <thead>\n",
              "    <tr style=\"text-align: right;\">\n",
              "      <th></th>\n",
              "      <th>comments</th>\n",
              "      <th>favorites</th>\n",
              "      <th>id</th>\n",
              "      <th>listens</th>\n",
              "      <th>tracks</th>\n",
              "      <th>comments.1</th>\n",
              "      <th>favorites.1</th>\n",
              "      <th>id.1</th>\n",
              "      <th>latitude</th>\n",
              "      <th>longitude</th>\n",
              "      <th>bit_rate</th>\n",
              "      <th>comments.2</th>\n",
              "      <th>duration</th>\n",
              "      <th>favorites.2</th>\n",
              "      <th>interest</th>\n",
              "      <th>listens.1</th>\n",
              "      <th>number</th>\n",
              "    </tr>\n",
              "  </thead>\n",
              "  <tbody>\n",
              "    <tr>\n",
              "      <th>count</th>\n",
              "      <td>106574.000000</td>\n",
              "      <td>106574.000000</td>\n",
              "      <td>106574.000000</td>\n",
              "      <td>1.065740e+05</td>\n",
              "      <td>106574.000000</td>\n",
              "      <td>106574.000000</td>\n",
              "      <td>106574.000000</td>\n",
              "      <td>106574.000000</td>\n",
              "      <td>44544.000000</td>\n",
              "      <td>44544.000000</td>\n",
              "      <td>106574.000000</td>\n",
              "      <td>106574.000000</td>\n",
              "      <td>106574.000000</td>\n",
              "      <td>106574.000000</td>\n",
              "      <td>1.065740e+05</td>\n",
              "      <td>106574.000000</td>\n",
              "      <td>106574.000000</td>\n",
              "    </tr>\n",
              "    <tr>\n",
              "      <th>mean</th>\n",
              "      <td>0.394946</td>\n",
              "      <td>1.286927</td>\n",
              "      <td>12826.933914</td>\n",
              "      <td>3.212031e+04</td>\n",
              "      <td>19.721452</td>\n",
              "      <td>1.894702</td>\n",
              "      <td>30.041915</td>\n",
              "      <td>12036.770404</td>\n",
              "      <td>39.901626</td>\n",
              "      <td>-38.668642</td>\n",
              "      <td>263274.695048</td>\n",
              "      <td>0.031621</td>\n",
              "      <td>277.849100</td>\n",
              "      <td>3.182521</td>\n",
              "      <td>3.541310e+03</td>\n",
              "      <td>2329.353548</td>\n",
              "      <td>8.260945</td>\n",
              "    </tr>\n",
              "    <tr>\n",
              "      <th>std</th>\n",
              "      <td>2.268915</td>\n",
              "      <td>3.133035</td>\n",
              "      <td>6290.261805</td>\n",
              "      <td>1.478532e+05</td>\n",
              "      <td>39.943673</td>\n",
              "      <td>6.297679</td>\n",
              "      <td>100.511408</td>\n",
              "      <td>6881.420867</td>\n",
              "      <td>18.240860</td>\n",
              "      <td>65.237220</td>\n",
              "      <td>67623.443584</td>\n",
              "      <td>0.321993</td>\n",
              "      <td>305.518553</td>\n",
              "      <td>13.513820</td>\n",
              "      <td>1.901743e+04</td>\n",
              "      <td>8028.070647</td>\n",
              "      <td>15.243271</td>\n",
              "    </tr>\n",
              "    <tr>\n",
              "      <th>min</th>\n",
              "      <td>-1.000000</td>\n",
              "      <td>-1.000000</td>\n",
              "      <td>-1.000000</td>\n",
              "      <td>-1.000000e+00</td>\n",
              "      <td>-1.000000</td>\n",
              "      <td>-1.000000</td>\n",
              "      <td>-1.000000</td>\n",
              "      <td>1.000000</td>\n",
              "      <td>-45.878760</td>\n",
              "      <td>-157.526855</td>\n",
              "      <td>-1.000000</td>\n",
              "      <td>0.000000</td>\n",
              "      <td>0.000000</td>\n",
              "      <td>0.000000</td>\n",
              "      <td>2.000000e+00</td>\n",
              "      <td>0.000000</td>\n",
              "      <td>0.000000</td>\n",
              "    </tr>\n",
              "    <tr>\n",
              "      <th>25%</th>\n",
              "      <td>0.000000</td>\n",
              "      <td>0.000000</td>\n",
              "      <td>7793.000000</td>\n",
              "      <td>3.361000e+03</td>\n",
              "      <td>7.000000</td>\n",
              "      <td>0.000000</td>\n",
              "      <td>1.000000</td>\n",
              "      <td>6443.000000</td>\n",
              "      <td>39.271398</td>\n",
              "      <td>-79.997459</td>\n",
              "      <td>192000.000000</td>\n",
              "      <td>0.000000</td>\n",
              "      <td>149.000000</td>\n",
              "      <td>0.000000</td>\n",
              "      <td>5.990000e+02</td>\n",
              "      <td>292.000000</td>\n",
              "      <td>2.000000</td>\n",
              "    </tr>\n",
              "    <tr>\n",
              "      <th>50%</th>\n",
              "      <td>0.000000</td>\n",
              "      <td>0.000000</td>\n",
              "      <td>13374.000000</td>\n",
              "      <td>8.982000e+03</td>\n",
              "      <td>11.000000</td>\n",
              "      <td>0.000000</td>\n",
              "      <td>5.000000</td>\n",
              "      <td>12029.500000</td>\n",
              "      <td>41.387917</td>\n",
              "      <td>-73.554431</td>\n",
              "      <td>299914.000000</td>\n",
              "      <td>0.000000</td>\n",
              "      <td>216.000000</td>\n",
              "      <td>1.000000</td>\n",
              "      <td>1.314000e+03</td>\n",
              "      <td>764.000000</td>\n",
              "      <td>5.000000</td>\n",
              "    </tr>\n",
              "    <tr>\n",
              "      <th>75%</th>\n",
              "      <td>0.000000</td>\n",
              "      <td>1.000000</td>\n",
              "      <td>18203.000000</td>\n",
              "      <td>2.363500e+04</td>\n",
              "      <td>17.000000</td>\n",
              "      <td>1.000000</td>\n",
              "      <td>16.000000</td>\n",
              "      <td>18011.000000</td>\n",
              "      <td>48.856930</td>\n",
              "      <td>4.351710</td>\n",
              "      <td>320000.000000</td>\n",
              "      <td>0.000000</td>\n",
              "      <td>305.000000</td>\n",
              "      <td>3.000000</td>\n",
              "      <td>3.059000e+03</td>\n",
              "      <td>2018.000000</td>\n",
              "      <td>9.000000</td>\n",
              "    </tr>\n",
              "    <tr>\n",
              "      <th>max</th>\n",
              "      <td>53.000000</td>\n",
              "      <td>61.000000</td>\n",
              "      <td>22940.000000</td>\n",
              "      <td>3.564243e+06</td>\n",
              "      <td>652.000000</td>\n",
              "      <td>79.000000</td>\n",
              "      <td>963.000000</td>\n",
              "      <td>24357.000000</td>\n",
              "      <td>67.286005</td>\n",
              "      <td>175.277000</td>\n",
              "      <td>448000.000000</td>\n",
              "      <td>37.000000</td>\n",
              "      <td>18350.000000</td>\n",
              "      <td>1482.000000</td>\n",
              "      <td>3.293557e+06</td>\n",
              "      <td>543252.000000</td>\n",
              "      <td>255.000000</td>\n",
              "    </tr>\n",
              "  </tbody>\n",
              "</table>\n",
              "</div>"
            ],
            "text/plain": [
              "            comments      favorites             id       listens  \\\n",
              "count  106574.000000  106574.000000  106574.000000  1.065740e+05   \n",
              "mean        0.394946       1.286927   12826.933914  3.212031e+04   \n",
              "std         2.268915       3.133035    6290.261805  1.478532e+05   \n",
              "min        -1.000000      -1.000000      -1.000000 -1.000000e+00   \n",
              "25%         0.000000       0.000000    7793.000000  3.361000e+03   \n",
              "50%         0.000000       0.000000   13374.000000  8.982000e+03   \n",
              "75%         0.000000       1.000000   18203.000000  2.363500e+04   \n",
              "max        53.000000      61.000000   22940.000000  3.564243e+06   \n",
              "\n",
              "              tracks     comments.1    favorites.1           id.1  \\\n",
              "count  106574.000000  106574.000000  106574.000000  106574.000000   \n",
              "mean       19.721452       1.894702      30.041915   12036.770404   \n",
              "std        39.943673       6.297679     100.511408    6881.420867   \n",
              "min        -1.000000      -1.000000      -1.000000       1.000000   \n",
              "25%         7.000000       0.000000       1.000000    6443.000000   \n",
              "50%        11.000000       0.000000       5.000000   12029.500000   \n",
              "75%        17.000000       1.000000      16.000000   18011.000000   \n",
              "max       652.000000      79.000000     963.000000   24357.000000   \n",
              "\n",
              "           latitude     longitude       bit_rate     comments.2  \\\n",
              "count  44544.000000  44544.000000  106574.000000  106574.000000   \n",
              "mean      39.901626    -38.668642  263274.695048       0.031621   \n",
              "std       18.240860     65.237220   67623.443584       0.321993   \n",
              "min      -45.878760   -157.526855      -1.000000       0.000000   \n",
              "25%       39.271398    -79.997459  192000.000000       0.000000   \n",
              "50%       41.387917    -73.554431  299914.000000       0.000000   \n",
              "75%       48.856930      4.351710  320000.000000       0.000000   \n",
              "max       67.286005    175.277000  448000.000000      37.000000   \n",
              "\n",
              "            duration    favorites.2      interest      listens.1  \\\n",
              "count  106574.000000  106574.000000  1.065740e+05  106574.000000   \n",
              "mean      277.849100       3.182521  3.541310e+03    2329.353548   \n",
              "std       305.518553      13.513820  1.901743e+04    8028.070647   \n",
              "min         0.000000       0.000000  2.000000e+00       0.000000   \n",
              "25%       149.000000       0.000000  5.990000e+02     292.000000   \n",
              "50%       216.000000       1.000000  1.314000e+03     764.000000   \n",
              "75%       305.000000       3.000000  3.059000e+03    2018.000000   \n",
              "max     18350.000000    1482.000000  3.293557e+06  543252.000000   \n",
              "\n",
              "              number  \n",
              "count  106574.000000  \n",
              "mean        8.260945  \n",
              "std        15.243271  \n",
              "min         0.000000  \n",
              "25%         2.000000  \n",
              "50%         5.000000  \n",
              "75%         9.000000  \n",
              "max       255.000000  "
            ]
          },
          "metadata": {
            "tags": []
          },
          "execution_count": 54
        }
      ]
    },
    {
      "cell_type": "code",
      "metadata": {
        "id": "iW-RHVWaYFAQ",
        "colab_type": "code",
        "colab": {}
      },
      "source": [
        "import datetime as dt\n",
        "df.describe(exclude='number').columns\n",
        "col_dates = ['date_created', 'date_released','active_year_begin','active_year_end','date_created.1','date_created.2','date_recorded']\n",
        "cols_cat=['track_id', 'engineer', 'information',\n",
        "       'producer', 'tags', 'title', 'type', \n",
        "        'associated_labels', 'bio', \n",
        "       'location', 'members', 'name', 'related_projects', 'tags.1', 'website',\n",
        "       'wikipedia_page', 'split', 'subset', 'composer', \n",
        "        'genre_top', 'genres', 'genres_all', 'information.1',\n",
        "       'language_code', 'license', 'lyricist', 'publisher', 'tags.2',\n",
        "       'title.1']\n",
        "for col in cols_cat:\n",
        "    df[col] = pd.Categorical(df[col])\n",
        "    df[col] = df[col].cat.codes\n",
        "    \n",
        "#taking just the year and month for all the dates\n",
        "for cold in col_dates:\n",
        "    name='{}_month'.format(cold)\n",
        "    df[cold]=pd.to_datetime(df[cold]).dt.year\n",
        "    df[name]=pd.to_datetime(df[cold]).dt.month\n",
        "    "
      ],
      "execution_count": 0,
      "outputs": []
    },
    {
      "cell_type": "code",
      "metadata": {
        "id": "_higFeCHaCpv",
        "colab_type": "code",
        "colab": {
          "base_uri": "https://localhost:8080/",
          "height": 146
        },
        "outputId": "51bb118f-4fb1-407b-de4c-09e6724d0066"
      },
      "source": [
        "from sklearn.model_selection import train_test_split\n",
        "from sklearn.preprocessing import StandardScaler\n",
        "targets=['genre_top','genres','genres_all']\n",
        "features=[#'track_id', #'comments', #'date_created', 'title',\n",
        "          'date_released', 'engineer',\n",
        "       'favorites', #'id', 'information',\n",
        "    'listens', 'producer', 'tags',\n",
        "        'tracks', 'type',# 'active_year_begin', 'active_year_end',\n",
        "       'associated_labels', #'bio', 'comments.1', 'date_created.1',\n",
        "       #'favorites.1', 'id.1', \n",
        "    'latitude', #'location', \n",
        "    'longitude',# 'members',\n",
        "      # 'name', 'related_projects', 'tags.1', 'website',# 'wikipedia_page',\n",
        "       #'split', 'subset', 'bit_rate', #'comments.2',\n",
        "    'composer',\n",
        "      # 'date_created.2', 'date_recorded', \n",
        "      'duration', #'favorites.2',\n",
        "        #'information.1', 'interest',\n",
        "       'language_code', 'license', #'listens.1',\n",
        "   # 'lyricist', #'number',\n",
        "       'publisher',# 'tags.2',# 'title.1'#, #'date_created_month',\n",
        "       'date_released_month',# 'active_year_begin_month',\n",
        "     #  'active_year_end_month', 'date_created.1_month', 'date_created.2_month',\n",
        "      # 'date_recorded_month']\n",
        "         ]\n",
        "y=df.copy()[targets[0]]\n",
        "X=df.copy()[features]\n",
        "\n",
        "imputer=SimpleImputer()\n",
        "\n",
        "X_train, X_test, y_train, y_test = train_test_split(X, y, test_size=0.2, random_state=42)\n",
        "\n",
        "imputer2=SimpleImputer()\n",
        "X_train_imputed=imputer2.fit_transform(X_train)\n",
        "X_test_imputed = imputer2.transform(X_test)\n",
        "scaler = StandardScaler()\n",
        "X_train_scaled=scaler.fit_transform(X_train_imputed)\n",
        "mylogreg = LogisticRegression(solver='lbfgs')#,max_iter=1000,multi_class='ovr')\n",
        "mylogreg.fit(X_train_scaled,y_train)"
      ],
      "execution_count": 127,
      "outputs": [
        {
          "output_type": "stream",
          "text": [
            "/usr/local/lib/python3.6/dist-packages/sklearn/linear_model/logistic.py:460: FutureWarning: Default multi_class will be changed to 'auto' in 0.22. Specify the multi_class option to silence this warning.\n",
            "  \"this warning.\", FutureWarning)\n"
          ],
          "name": "stderr"
        },
        {
          "output_type": "execute_result",
          "data": {
            "text/plain": [
              "LogisticRegression(C=1.0, class_weight=None, dual=False, fit_intercept=True,\n",
              "          intercept_scaling=1, max_iter=100, multi_class='warn',\n",
              "          n_jobs=None, penalty='l2', random_state=None, solver='lbfgs',\n",
              "          tol=0.0001, verbose=0, warm_start=False)"
            ]
          },
          "metadata": {
            "tags": []
          },
          "execution_count": 127
        }
      ]
    },
    {
      "cell_type": "code",
      "metadata": {
        "id": "ZMGh9cFJjk1G",
        "colab_type": "code",
        "colab": {
          "base_uri": "https://localhost:8080/",
          "height": 345
        },
        "outputId": "1c1f1927-5b28-47c4-aa1c-0008a53af3b0"
      },
      "source": [
        "#pd.Series(LR.coef_,X_train.columns)\n",
        "#scores = cross_val_score(LR,X_train_imputed,y_train,cv=10)\n",
        "#print('cross val acc scores',scores)\n",
        "#len(LR.coef_),len(X_train.columns)\n",
        "#LR.coef_\n",
        "y_train.shape,X_train.shape,X_train_scaled.shape\n",
        "coeffs=pd.DataFrame(mylogreg.coef_)\n",
        "coeffs.columns=features\n",
        "coeffs.sum()"
      ],
      "execution_count": 128,
      "outputs": [
        {
          "output_type": "execute_result",
          "data": {
            "text/plain": [
              "date_released           0.169189\n",
              "engineer               -4.000313\n",
              "favorites               0.628944\n",
              "listens               -16.157707\n",
              "producer               -2.178357\n",
              "tags                    2.285213\n",
              "tracks                -10.531260\n",
              "type                    1.918938\n",
              "associated_labels      -6.580239\n",
              "latitude                1.424678\n",
              "longitude              -1.840178\n",
              "composer               -2.874736\n",
              "duration               -4.391070\n",
              "language_code           1.639007\n",
              "license                 3.821634\n",
              "publisher              -2.803542\n",
              "date_released_month     0.000000\n",
              "dtype: float64"
            ]
          },
          "metadata": {
            "tags": []
          },
          "execution_count": 128
        }
      ]
    },
    {
      "cell_type": "code",
      "metadata": {
        "id": "Q93go8FFq7ca",
        "colab_type": "code",
        "colab": {
          "base_uri": "https://localhost:8080/",
          "height": 35
        },
        "outputId": "81e21c9c-fc35-41bd-827d-7976bd9a010e"
      },
      "source": [
        "#the most important features seem to belistens, tracks and associated labels, engineer and license. \n",
        "#i thought location information, language and publisher would have been way better\n",
        "#i thought date release would have been much more useful as music is realeased seasonally but it is useless\n",
        "\n",
        "my_score=mylogreg.score(X_train_imputed, y_train)\n",
        "print('train accuracy score',my_score)"
      ],
      "execution_count": 126,
      "outputs": [
        {
          "output_type": "stream",
          "text": [
            "train accuracy score 0.4595995730656001\n"
          ],
          "name": "stdout"
        }
      ]
    },
    {
      "cell_type": "markdown",
      "metadata": {
        "colab_type": "text",
        "id": "kQUVlUKQMPPW"
      },
      "source": [
        "This dataset is bigger than many you've worked with so far, and while it should fit in Colab, it can take awhile to run. That's part of the challenge!\n",
        "\n",
        "Your tasks:\n",
        "- Clean up the variable names in the dataframe\n",
        "- Use logistic regression to fit a model predicting (primary/top) genre\n",
        "- Inspect, iterate, and improve your model\n",
        "- Answer the following questions (written, ~paragraph each):\n",
        "  - What are the best predictors of genre?\n",
        "  - What information isn't very useful for predicting genre?\n",
        "  - What surprised you the most about your results?\n",
        "\n",
        "*Important caveats*:\n",
        "- This is going to be difficult data to work with - don't let the perfect be the enemy of the good!\n",
        "- Be creative in cleaning it up - if the best way you know how to do it is download it locally and edit as a spreadsheet, that's OK!\n",
        "- If the data size becomes problematic, consider sampling/subsetting, or [downcasting numeric datatypes](https://www.dataquest.io/blog/pandas-big-data/).\n",
        "- You do not need perfect or complete results - just something plausible that runs, and that supports the reasoning in your written answers\n",
        "\n",
        "If you find that fitting a model to classify *all* genres isn't very good, it's totally OK to limit to the most frequent genres, or perhaps trying to combine or cluster genres as a preprocessing step. Even then, there will be limits to how good a model can be with just this metadata - if you really want to train an effective genre classifier, you'll have to involve the other data (see stretch goals).\n",
        "\n",
        "This is real data - there is no \"one correct answer\", so you can take this in a variety of directions. Just make sure to support your findings, and feel free to share them as well! This is meant to be practice for dealing with other \"messy\" data, a common task in data science."
      ]
    },
    {
      "cell_type": "markdown",
      "metadata": {
        "colab_type": "text",
        "id": "wlI5OXfSag9C"
      },
      "source": [
        "## Resources and stretch goals\n",
        "\n",
        "- Check out the other .csv files from the FMA dataset, and see if you can join them or otherwise fit interesting models with them\n",
        "- [Logistic regression from scratch in numpy](https://blog.goodaudience.com/logistic-regression-from-scratch-in-numpy-5841c09e425f) - if you want to dig in a bit more to both the code and math (also takes a gradient descent approach, introducing the logistic loss function)\n",
        "- Create a visualization to show predictions of your model - ideally show a confidence interval based on error!\n",
        "- Check out and compare classification models from scikit-learn, such as [SVM](https://scikit-learn.org/stable/modules/svm.html#classification), [decision trees](https://scikit-learn.org/stable/modules/tree.html#classification), and [naive Bayes](https://scikit-learn.org/stable/modules/naive_bayes.html). The underlying math will vary significantly, but the API (how you write the code) and interpretation will actually be fairly similar.\n",
        "- Sign up for [Kaggle](https://kaggle.com), and find a competition to try logistic regression with\n",
        "- (Not logistic regression related) If you enjoyed the assignment, you may want to read up on [music informatics](https://en.wikipedia.org/wiki/Music_informatics), which is how those audio features were actually calculated. The FMA includes the actual raw audio, so (while this is more of a longterm project than a stretch goal, and won't fit in Colab) if you'd like you can check those out and see what sort of deeper analysis you can do."
      ]
    }
  ]
}